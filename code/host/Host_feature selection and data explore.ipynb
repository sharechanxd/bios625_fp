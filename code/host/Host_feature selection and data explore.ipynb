{
 "cells": [
  {
   "cell_type": "code",
   "execution_count": 1,
   "metadata": {},
   "outputs": [
    {
     "name": "stderr",
     "output_type": "stream",
     "text": [
      "c:\\users\\xiao\\anaconda3\\envs\\tensorflow\\lib\\site-packages\\sklearn\\externals\\joblib\\__init__.py:15: FutureWarning: sklearn.externals.joblib is deprecated in 0.21 and will be removed in 0.23. Please import this functionality directly from joblib, which can be installed with: pip install joblib. If this warning is raised when loading pickled models, you may need to re-serialize those models with scikit-learn 0.21+.\n",
      "  warnings.warn(msg, category=FutureWarning)\n"
     ]
    }
   ],
   "source": [
    "import pandas as pd\n",
    "import numpy as np\n",
    "from sklearn.utils import shuffle\n",
    "from sklearn.model_selection import train_test_split\n",
    "# from sklearn.ensemble import RandomForestRegressor\n",
    "# from sklearn.ensemble import GradientBoostingRegressor\n",
    "# from sklearn.ensemble import AdaBoostRegressor\n",
    "from sklearn.pipeline import make_pipeline\n",
    "from sklearn.impute import SimpleImputer\n",
    "from sklearn.preprocessing import StandardScaler\n",
    "from sklearn.model_selection import RandomizedSearchCV\n",
    "from sklearn.model_selection import GridSearchCV\n",
    "# from sklearn.neural_network import MLPRegressor\n",
    "# from sklearn.metrics import median_absolute_error\n",
    "# from sklearn.metrics import mean_squared_error\n",
    "from math import sqrt\n",
    "# from xgboost import XGBRegressor\n",
    "from sklearn.externals import joblib\n",
    "import copy \n",
    "import pickle\n",
    "import os\n",
    "from pprint import pprint\n",
    "import math\n",
    "import matplotlib.pyplot as plt\n",
    "%matplotlib inline"
   ]
  },
  {
   "cell_type": "code",
   "execution_count": 2,
   "metadata": {},
   "outputs": [
    {
     "name": "stderr",
     "output_type": "stream",
     "text": [
      "c:\\users\\xiao\\anaconda3\\envs\\tensorflow\\lib\\site-packages\\IPython\\core\\interactiveshell.py:3063: DtypeWarning: Columns (67) have mixed types.Specify dtype option on import or set low_memory=False.\n",
      "  interactivity=interactivity, compiler=compiler, result=result)\n"
     ]
    }
   ],
   "source": [
    "listings_file_path ='C:\\\\Users\\\\xiao\\\\Documents\\\\listings.csv' \n",
    "listings = pd.read_csv(listings_file_path)\n",
    "reviews=pd.read_csv('C:\\\\Users\\\\xiao\\\\Documents\\\\reviews.csv.gz')"
   ]
  },
  {
   "cell_type": "code",
   "execution_count": 3,
   "metadata": {},
   "outputs": [
    {
     "data": {
      "text/html": [
       "<div>\n",
       "<style scoped>\n",
       "    .dataframe tbody tr th:only-of-type {\n",
       "        vertical-align: middle;\n",
       "    }\n",
       "\n",
       "    .dataframe tbody tr th {\n",
       "        vertical-align: top;\n",
       "    }\n",
       "\n",
       "    .dataframe thead th {\n",
       "        text-align: right;\n",
       "    }\n",
       "</style>\n",
       "<table border=\"1\" class=\"dataframe\">\n",
       "  <thead>\n",
       "    <tr style=\"text-align: right;\">\n",
       "      <th></th>\n",
       "      <th>listing_id</th>\n",
       "      <th>id</th>\n",
       "      <th>date</th>\n",
       "      <th>reviewer_id</th>\n",
       "      <th>reviewer_name</th>\n",
       "      <th>comments</th>\n",
       "    </tr>\n",
       "  </thead>\n",
       "  <tbody>\n",
       "    <tr>\n",
       "      <th>0</th>\n",
       "      <td>2595</td>\n",
       "      <td>17857</td>\n",
       "      <td>2009-11-21</td>\n",
       "      <td>50679</td>\n",
       "      <td>Jean</td>\n",
       "      <td>Notre séjour de trois nuits.\\r&lt;br/&gt;Nous avons ...</td>\n",
       "    </tr>\n",
       "    <tr>\n",
       "      <th>1</th>\n",
       "      <td>2595</td>\n",
       "      <td>19176</td>\n",
       "      <td>2009-12-05</td>\n",
       "      <td>53267</td>\n",
       "      <td>Cate</td>\n",
       "      <td>Great experience.</td>\n",
       "    </tr>\n",
       "    <tr>\n",
       "      <th>2</th>\n",
       "      <td>2595</td>\n",
       "      <td>19760</td>\n",
       "      <td>2009-12-10</td>\n",
       "      <td>38960</td>\n",
       "      <td>Anita</td>\n",
       "      <td>I've stayed with my friend at the Midtown Cast...</td>\n",
       "    </tr>\n",
       "    <tr>\n",
       "      <th>3</th>\n",
       "      <td>2595</td>\n",
       "      <td>34320</td>\n",
       "      <td>2010-04-09</td>\n",
       "      <td>71130</td>\n",
       "      <td>Kai-Uwe</td>\n",
       "      <td>We've been staying here for about 9 nights, en...</td>\n",
       "    </tr>\n",
       "    <tr>\n",
       "      <th>4</th>\n",
       "      <td>2595</td>\n",
       "      <td>46312</td>\n",
       "      <td>2010-05-25</td>\n",
       "      <td>117113</td>\n",
       "      <td>Alicia</td>\n",
       "      <td>We had a wonderful stay at Jennifer's charming...</td>\n",
       "    </tr>\n",
       "  </tbody>\n",
       "</table>\n",
       "</div>"
      ],
      "text/plain": [
       "   listing_id     id        date  reviewer_id reviewer_name  \\\n",
       "0        2595  17857  2009-11-21        50679          Jean   \n",
       "1        2595  19176  2009-12-05        53267          Cate   \n",
       "2        2595  19760  2009-12-10        38960         Anita   \n",
       "3        2595  34320  2010-04-09        71130       Kai-Uwe   \n",
       "4        2595  46312  2010-05-25       117113        Alicia   \n",
       "\n",
       "                                            comments  \n",
       "0  Notre séjour de trois nuits.\\r<br/>Nous avons ...  \n",
       "1                                  Great experience.  \n",
       "2  I've stayed with my friend at the Midtown Cast...  \n",
       "3  We've been staying here for about 9 nights, en...  \n",
       "4  We had a wonderful stay at Jennifer's charming...  "
      ]
     },
     "execution_count": 3,
     "metadata": {},
     "output_type": "execute_result"
    }
   ],
   "source": [
    "reviews.head(5)"
   ]
  },
  {
   "cell_type": "code",
   "execution_count": 4,
   "metadata": {},
   "outputs": [],
   "source": [
    "reviews.comments.fillna('none',inplace=True)"
   ]
  },
  {
   "cell_type": "code",
   "execution_count": 5,
   "metadata": {},
   "outputs": [
    {
     "data": {
      "text/plain": [
       "(2638, 6)"
      ]
     },
     "execution_count": 5,
     "metadata": {},
     "output_type": "execute_result"
    }
   ],
   "source": [
    "reviews[reviews.comments.str.contains('super host',case=False)==True].shape"
   ]
  },
  {
   "cell_type": "code",
   "execution_count": 6,
   "metadata": {},
   "outputs": [
    {
     "data": {
      "text/plain": [
       "(1127, 6)"
      ]
     },
     "execution_count": 6,
     "metadata": {},
     "output_type": "execute_result"
    }
   ],
   "source": [
    "reviews[reviews.comments.str.contains('superhost',case=False)==True].shape"
   ]
  },
  {
   "cell_type": "code",
   "execution_count": 7,
   "metadata": {},
   "outputs": [],
   "source": [
    "reviews.comments = reviews.comments.str.replace(\"superhost\",\"\",regex=True, case=False)\n",
    "reviews.comments = reviews.comments.str.replace(\"super host\",\"\",regex=True, case=False)"
   ]
  },
  {
   "cell_type": "code",
   "execution_count": 8,
   "metadata": {},
   "outputs": [],
   "source": [
    "reviews=reviews.groupby(['listing_id'])['comments'].apply(','.join).reset_index()"
   ]
  },
  {
   "cell_type": "code",
   "execution_count": 9,
   "metadata": {},
   "outputs": [
    {
     "data": {
      "text/html": [
       "<div>\n",
       "<style scoped>\n",
       "    .dataframe tbody tr th:only-of-type {\n",
       "        vertical-align: middle;\n",
       "    }\n",
       "\n",
       "    .dataframe tbody tr th {\n",
       "        vertical-align: top;\n",
       "    }\n",
       "\n",
       "    .dataframe thead th {\n",
       "        text-align: right;\n",
       "    }\n",
       "</style>\n",
       "<table border=\"1\" class=\"dataframe\">\n",
       "  <thead>\n",
       "    <tr style=\"text-align: right;\">\n",
       "      <th></th>\n",
       "      <th>listing_id</th>\n",
       "      <th>comments</th>\n",
       "    </tr>\n",
       "  </thead>\n",
       "  <tbody>\n",
       "    <tr>\n",
       "      <th>0</th>\n",
       "      <td>2595</td>\n",
       "      <td>Notre séjour de trois nuits.\\r&lt;br/&gt;Nous avons ...</td>\n",
       "    </tr>\n",
       "    <tr>\n",
       "      <th>1</th>\n",
       "      <td>3831</td>\n",
       "      <td>lisa is a wonderful, kind and thoughtful host....</td>\n",
       "    </tr>\n",
       "    <tr>\n",
       "      <th>2</th>\n",
       "      <td>5121</td>\n",
       "      <td>Simple place, super nice guy.,Great guy with a...</td>\n",
       "    </tr>\n",
       "    <tr>\n",
       "      <th>3</th>\n",
       "      <td>5136</td>\n",
       "      <td>My family had a wonderful stay at Rebecca and ...</td>\n",
       "    </tr>\n",
       "    <tr>\n",
       "      <th>4</th>\n",
       "      <td>5178</td>\n",
       "      <td>MR. Kasai was a grreat host , very helpful and...</td>\n",
       "    </tr>\n",
       "  </tbody>\n",
       "</table>\n",
       "</div>"
      ],
      "text/plain": [
       "   listing_id                                           comments\n",
       "0        2595  Notre séjour de trois nuits.\\r<br/>Nous avons ...\n",
       "1        3831  lisa is a wonderful, kind and thoughtful host....\n",
       "2        5121  Simple place, super nice guy.,Great guy with a...\n",
       "3        5136  My family had a wonderful stay at Rebecca and ...\n",
       "4        5178  MR. Kasai was a grreat host , very helpful and..."
      ]
     },
     "execution_count": 9,
     "metadata": {},
     "output_type": "execute_result"
    }
   ],
   "source": [
    "reviews.head(5)"
   ]
  },
  {
   "cell_type": "markdown",
   "metadata": {},
   "source": [
    "## deal with data in listings"
   ]
  },
  {
   "cell_type": "code",
   "execution_count": 10,
   "metadata": {},
   "outputs": [],
   "source": [
    "df_combined=pd.merge(listings, reviews, left_on='id', right_on='listing_id', how='left')"
   ]
  },
  {
   "cell_type": "code",
   "execution_count": 11,
   "metadata": {},
   "outputs": [
    {
     "data": {
      "text/plain": [
       "(28501, 76)"
      ]
     },
     "execution_count": 11,
     "metadata": {},
     "output_type": "execute_result"
    }
   ],
   "source": [
    "df_combined['host_is_superhost'].fillna('f', inplace = True)\n",
    "df_combined.replace({'host_is_superhost': {'t': True, 'f': False}},inplace=True)\n",
    "df_combined=df_combined[df_combined.comments.isnull()==False]\n",
    "df_combined.shape"
   ]
  },
  {
   "cell_type": "code",
   "execution_count": 12,
   "metadata": {},
   "outputs": [
    {
     "data": {
      "text/plain": [
       "Index(['id', 'listing_url', 'scrape_id', 'last_scraped', 'name', 'description',\n",
       "       'neighborhood_overview', 'picture_url', 'host_id', 'host_url',\n",
       "       'host_name', 'host_since', 'host_location', 'host_about',\n",
       "       'host_response_time', 'host_response_rate', 'host_acceptance_rate',\n",
       "       'host_is_superhost', 'host_thumbnail_url', 'host_picture_url',\n",
       "       'host_neighbourhood', 'host_listings_count',\n",
       "       'host_total_listings_count', 'host_verifications',\n",
       "       'host_has_profile_pic', 'host_identity_verified', 'neighbourhood',\n",
       "       'neighbourhood_cleansed', 'neighbourhood_group_cleansed', 'latitude',\n",
       "       'longitude', 'property_type', 'room_type', 'accommodates', 'bathrooms',\n",
       "       'bathrooms_text', 'bedrooms', 'beds', 'amenities', 'price',\n",
       "       'minimum_nights', 'maximum_nights', 'minimum_minimum_nights',\n",
       "       'maximum_minimum_nights', 'minimum_maximum_nights',\n",
       "       'maximum_maximum_nights', 'minimum_nights_avg_ntm',\n",
       "       'maximum_nights_avg_ntm', 'calendar_updated', 'has_availability',\n",
       "       'availability_30', 'availability_60', 'availability_90',\n",
       "       'availability_365', 'calendar_last_scraped', 'number_of_reviews',\n",
       "       'number_of_reviews_ltm', 'number_of_reviews_l30d', 'first_review',\n",
       "       'last_review', 'review_scores_rating', 'review_scores_accuracy',\n",
       "       'review_scores_cleanliness', 'review_scores_checkin',\n",
       "       'review_scores_communication', 'review_scores_location',\n",
       "       'review_scores_value', 'license', 'instant_bookable',\n",
       "       'calculated_host_listings_count',\n",
       "       'calculated_host_listings_count_entire_homes',\n",
       "       'calculated_host_listings_count_private_rooms',\n",
       "       'calculated_host_listings_count_shared_rooms', 'reviews_per_month',\n",
       "       'listing_id', 'comments'],\n",
       "      dtype='object')"
      ]
     },
     "execution_count": 12,
     "metadata": {},
     "output_type": "execute_result"
    }
   ],
   "source": [
    "df_combined.columns"
   ]
  },
  {
   "cell_type": "code",
   "execution_count": 13,
   "metadata": {},
   "outputs": [],
   "source": [
    "final_data =copy.deepcopy(df_combined)"
   ]
  },
  {
   "cell_type": "code",
   "execution_count": 14,
   "metadata": {},
   "outputs": [],
   "source": [
    "useless = ['listing_url', 'scrape_id', 'last_scraped', 'name', 'summary','description', \n",
    "       'notes', 'transit', 'access', 'interaction', 'house_rules',\n",
    "       'thumbnail_url', 'medium_url', 'picture_url', 'xl_picture_url',\n",
    "       'host_id', 'host_url', 'host_name', 'host_since', 'host_location', 'host_thumbnail_url',\n",
    "       'host_picture_url',\n",
    "       'city', 'state', 'market', 'smart_location', 'country_code', 'country',\n",
    "       'is_location_exact', 'weekly_price', 'monthly_price','calendar_last_scraped','license','calendar_updated','id']\n",
    "\n",
    "remained = list(set(list(final_data.columns))-set(useless))\n",
    "final_data = final_data[remained]"
   ]
  },
  {
   "cell_type": "code",
   "execution_count": 15,
   "metadata": {},
   "outputs": [],
   "source": [
    "final_data['price'] = final_data['price'].str.replace('\\$|,', '')\n",
    "final_data['price'] = pd.to_numeric(final_data['price'])\n",
    "final_data['bathrooms'] = final_data['bathrooms_text'].str.extract('(\\d+\\.?\\d*)')\n",
    "final_data['bathrooms'] = pd.to_numeric(final_data['bathrooms'])\n",
    "useless = ['bathrooms_text','minimum_nights','longitude','latitude','beds','calculated_host_listings_count', \n",
    "           'availability_30', 'availability_60', 'availability_90','room_type','maximum_minimum_nights','minimum_maximum_nights','minimum_minimum_nights','maximum_maximum_nights',\n",
    "          'property_type','amenities']\n",
    "final_data.drop(useless, axis=1,inplace=True)"
   ]
  },
  {
   "cell_type": "code",
   "execution_count": 16,
   "metadata": {},
   "outputs": [
    {
     "data": {
      "text/plain": [
       "Index(['neighborhood_overview', 'host_about', 'review_scores_value',\n",
       "       'number_of_reviews_l30d', 'last_review', 'bathrooms',\n",
       "       'review_scores_communication', 'maximum_nights',\n",
       "       'neighbourhood_group_cleansed', 'host_is_superhost', 'price',\n",
       "       'host_has_profile_pic', 'calculated_host_listings_count_entire_homes',\n",
       "       'review_scores_cleanliness', 'host_total_listings_count',\n",
       "       'host_verifications', 'host_acceptance_rate',\n",
       "       'calculated_host_listings_count_private_rooms', 'bedrooms',\n",
       "       'maximum_nights_avg_ntm', 'neighbourhood', 'host_identity_verified',\n",
       "       'has_availability', 'host_response_rate', 'review_scores_rating',\n",
       "       'host_neighbourhood', 'availability_365', 'instant_bookable',\n",
       "       'host_response_time', 'first_review', 'reviews_per_month', 'comments',\n",
       "       'calculated_host_listings_count_shared_rooms', 'host_listings_count',\n",
       "       'number_of_reviews_ltm', 'review_scores_checkin', 'listing_id',\n",
       "       'neighbourhood_cleansed', 'minimum_nights_avg_ntm', 'number_of_reviews',\n",
       "       'review_scores_accuracy', 'review_scores_location', 'accommodates'],\n",
       "      dtype='object')"
      ]
     },
     "execution_count": 16,
     "metadata": {},
     "output_type": "execute_result"
    }
   ],
   "source": [
    "final_data.columns"
   ]
  },
  {
   "cell_type": "code",
   "execution_count": 17,
   "metadata": {},
   "outputs": [
    {
     "data": {
      "image/png": "[encoded data removed]",
      "text/plain": [
       "<Figure size 1152x360 with 1 Axes>"
      ]
     },
     "metadata": {
      "needs_background": "light"
     },
     "output_type": "display_data"
    }
   ],
   "source": [
    "import matplotlib.pyplot as plt\n",
    "%matplotlib inline\n",
    "\n",
    "percentage_missing_data = final_data.isnull().sum() / final_data.shape[0]\n",
    "ax = percentage_missing_data.plot(kind = 'bar', color='#39B00C', figsize = (16, 5))\n",
    "ax.set_xlabel('Feature')\n",
    "ax.set_ylabel('Percent Empty / NaN')\n",
    "ax.set_title('Feature Emptiness')\n",
    "plt.show()"
   ]
  },
  {
   "cell_type": "code",
   "execution_count": 18,
   "metadata": {},
   "outputs": [],
   "source": [
    "kick_1 = ['bathrooms','neighborhood_overview','host_response_rate','host_about',\n",
    "          'host_response_time','host_acceptance_rate','neighbourhood','host_neighbourhood']\n",
    "final_data.drop(kick_1,axis=1,inplace=True)"
   ]
  },
  {
   "cell_type": "code",
   "execution_count": 19,
   "metadata": {},
   "outputs": [
    {
     "data": {
      "text/plain": [
       "review_scores_value                             float64\n",
       "number_of_reviews_l30d                            int64\n",
       "last_review                                      object\n",
       "review_scores_communication                     float64\n",
       "maximum_nights                                    int64\n",
       "neighbourhood_group_cleansed                     object\n",
       "host_is_superhost                                  bool\n",
       "price                                           float64\n",
       "host_has_profile_pic                             object\n",
       "calculated_host_listings_count_entire_homes       int64\n",
       "review_scores_cleanliness                       float64\n",
       "host_total_listings_count                       float64\n",
       "host_verifications                               object\n",
       "calculated_host_listings_count_private_rooms      int64\n",
       "bedrooms                                        float64\n",
       "maximum_nights_avg_ntm                          float64\n",
       "host_identity_verified                           object\n",
       "has_availability                                 object\n",
       "review_scores_rating                            float64\n",
       "availability_365                                  int64\n",
       "instant_bookable                                 object\n",
       "first_review                                     object\n",
       "reviews_per_month                               float64\n",
       "comments                                         object\n",
       "calculated_host_listings_count_shared_rooms       int64\n",
       "host_listings_count                             float64\n",
       "number_of_reviews_ltm                             int64\n",
       "review_scores_checkin                           float64\n",
       "listing_id                                      float64\n",
       "neighbourhood_cleansed                           object\n",
       "minimum_nights_avg_ntm                          float64\n",
       "number_of_reviews                                 int64\n",
       "review_scores_accuracy                          float64\n",
       "review_scores_location                          float64\n",
       "accommodates                                      int64\n",
       "dtype: object"
      ]
     },
     "execution_count": 19,
     "metadata": {},
     "output_type": "execute_result"
    }
   ],
   "source": [
    "final_data.dtypes"
   ]
  },
  {
   "cell_type": "code",
   "execution_count": 20,
   "metadata": {},
   "outputs": [
    {
     "data": {
      "image/png": "[encoded data removed]",
      "text/plain": [
       "<Figure size 1152x360 with 1 Axes>"
      ]
     },
     "metadata": {
      "needs_background": "light"
     },
     "output_type": "display_data"
    }
   ],
   "source": [
    "categories = final_data.columns[final_data.dtypes == 'object']\n",
    "percentage_unique = final_data[categories].nunique() / final_data.shape[0]\n",
    "\n",
    "ax = percentage_unique.plot(kind = 'bar', color='#E35A5C', figsize = (16, 5))\n",
    "ax.set_xlabel('Feature')\n",
    "ax.set_ylabel('Percent # Unique')\n",
    "ax.set_title('Feature Emptiness')\n",
    "plt.show()"
   ]
  },
  {
   "cell_type": "code",
   "execution_count": 21,
   "metadata": {},
   "outputs": [],
   "source": [
    "final_data.drop(['first_review','last_review'],axis=1,inplace=True)"
   ]
  },
  {
   "cell_type": "code",
   "execution_count": 22,
   "metadata": {},
   "outputs": [
    {
     "data": {
      "text/plain": [
       "(28501, 33)"
      ]
     },
     "execution_count": 22,
     "metadata": {},
     "output_type": "execute_result"
    }
   ],
   "source": [
    "final_data.shape"
   ]
  },
  {
   "cell_type": "code",
   "execution_count": 23,
   "metadata": {},
   "outputs": [
    {
     "data": {
      "text/plain": [
       "(24912, 33)"
      ]
     },
     "execution_count": 23,
     "metadata": {},
     "output_type": "execute_result"
    }
   ],
   "source": [
    "final_data.dropna(axis=0,how='any').shape"
   ]
  },
  {
   "cell_type": "code",
   "execution_count": 24,
   "metadata": {},
   "outputs": [],
   "source": [
    "# final_data.to_csv('host_data_NYC_11_30.csv',index=False)"
   ]
  },
  {
   "cell_type": "code",
   "execution_count": null,
   "metadata": {},
   "outputs": [],
   "source": []
  },
  {
   "cell_type": "code",
   "execution_count": null,
   "metadata": {},
   "outputs": [],
   "source": []
  }
 ],
 "metadata": {
  "kernelspec": {
   "display_name": "Python 3",
   "language": "python",
   "name": "python3"
  },
  "language_info": {
   "codemirror_mode": {
    "name": "ipython",
    "version": 3
   },
   "file_extension": ".py",
   "mimetype": "text/x-python",
   "name": "python",
   "nbconvert_exporter": "python",
   "pygments_lexer": "ipython3",
   "version": "3.7.6"
  }
 },
 "nbformat": 4,
 "nbformat_minor": 4
}
